{
 "cells": [
  {
   "cell_type": "code",
   "execution_count": 1,
   "id": "cae12966",
   "metadata": {},
   "outputs": [
    {
     "name": "stdout",
     "output_type": "stream",
     "text": [
      "CUDA is available. Testing GPU...\n",
      "Device name: NVIDIA GeForce RTX 2060\n",
      "Tensor on GPU:\n",
      " tensor([[ 0.2083, -1.7451, -2.0616, -1.6490,  0.6290],\n",
      "        [ 0.3161, -0.5942,  0.4763, -0.6391,  1.3393],\n",
      "        [-0.4420, -0.9062, -0.8618,  0.6966,  0.1508],\n",
      "        [-1.9245,  0.1168,  1.2684,  0.4230,  0.1194],\n",
      "        [ 0.1962, -0.2690,  1.3798,  0.2368,  0.6742]], device='cuda:0')\n",
      "Tensor back on CPU:\n",
      " tensor([[ 0.2083, -1.7451, -2.0616, -1.6490,  0.6290],\n",
      "        [ 0.3161, -0.5942,  0.4763, -0.6391,  1.3393],\n",
      "        [-0.4420, -0.9062, -0.8618,  0.6966,  0.1508],\n",
      "        [-1.9245,  0.1168,  1.2684,  0.4230,  0.1194],\n",
      "        [ 0.1962, -0.2690,  1.3798,  0.2368,  0.6742]])\n"
     ]
    }
   ],
   "source": [
    "import torch\n",
    "\n",
    "def test_gpu():\n",
    "    # 检查是否有可用的CUDA设备\n",
    "    if torch.cuda.is_available():\n",
    "        print(\"CUDA is available. Testing GPU...\")\n",
    "        \n",
    "        # 获取GPU的名字\n",
    "        device_name = torch.cuda.get_device_name(0)\n",
    "        print(\"Device name:\", device_name)\n",
    "\n",
    "        # 创建一个随机的张量\n",
    "        x = torch.randn(5, 5)\n",
    "\n",
    "        # 将张量转移到GPU\n",
    "        x_gpu = x.to(\"cuda\")\n",
    "        print(\"Tensor on GPU:\\n\", x_gpu)\n",
    "\n",
    "        # 将张量从GPU转移到CPU\n",
    "        x_cpu = x_gpu.to(\"cpu\")\n",
    "        print(\"Tensor back on CPU:\\n\", x_cpu)\n",
    "        \n",
    "    else:\n",
    "        print(\"CUDA is not available.\")\n",
    "\n",
    "if __name__ == \"__main__\":\n",
    "    test_gpu()\n"
   ]
  },
  {
   "cell_type": "code",
   "execution_count": null,
   "id": "e60abf44",
   "metadata": {},
   "outputs": [],
   "source": []
  }
 ],
 "metadata": {
  "kernelspec": {
   "display_name": "Python 3 (ipykernel)",
   "language": "python",
   "name": "python3"
  },
  "language_info": {
   "codemirror_mode": {
    "name": "ipython",
    "version": 3
   },
   "file_extension": ".py",
   "mimetype": "text/x-python",
   "name": "python",
   "nbconvert_exporter": "python",
   "pygments_lexer": "ipython3",
   "version": "3.10.4"
  }
 },
 "nbformat": 4,
 "nbformat_minor": 5
}
